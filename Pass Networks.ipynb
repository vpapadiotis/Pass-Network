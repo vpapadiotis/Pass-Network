{
 "cells": [
  {
   "cell_type": "code",
   "execution_count": 1,
   "metadata": {},
   "outputs": [],
   "source": [
    "import pandas as pd\n",
    "import matplotlib as mpl\n",
    "from mplsoccer.pitch import Pitch\n",
    "from matplotlib.colors import to_rgba\n",
    "import numpy as np\n",
    "from mplsoccer.statsbomb import read_event, EVENT_SLUG\n",
    "import matplotlib.pyplot as plt\n",
    "from matplotlib import cm\n",
    "from matplotlib import colorbar\n",
    "from matplotlib.colors import LinearSegmentedColormap\n",
    "from highlight_text import fig_text\n",
    "import math"
   ]
  },
  {
   "cell_type": "code",
   "execution_count": 2,
   "metadata": {},
   "outputs": [
    {
     "name": "stderr",
     "output_type": "stream",
     "text": [
      "<ipython-input-2-c261180a6b40>:8: SettingWithCopyWarning: \n",
      "A value is trying to be set on a copy of a slice from a DataFrame.\n",
      "Try using .loc[row_indexer,col_indexer] = value instead\n",
      "\n",
      "See the caveats in the documentation: https://pandas.pydata.org/pandas-docs/stable/user_guide/indexing.html#returning-a-view-versus-a-copy\n",
      "  OneTeam[\"newsecond\"] = 60*OneTeam[\"minute\"]+OneTeam[\"second\"]\n",
      "<ipython-input-2-c261180a6b40>:13: SettingWithCopyWarning: \n",
      "A value is trying to be set on a copy of a slice from a DataFrame.\n",
      "Try using .loc[row_indexer,col_indexer] = value instead\n",
      "\n",
      "See the caveats in the documentation: https://pandas.pydata.org/pandas-docs/stable/user_guide/indexing.html#returning-a-view-versus-a-copy\n",
      "  OneTeam['passer'] = OneTeam['playerId']\n",
      "<ipython-input-2-c261180a6b40>:15: SettingWithCopyWarning: \n",
      "A value is trying to be set on a copy of a slice from a DataFrame.\n",
      "Try using .loc[row_indexer,col_indexer] = value instead\n",
      "\n",
      "See the caveats in the documentation: https://pandas.pydata.org/pandas-docs/stable/user_guide/indexing.html#returning-a-view-versus-a-copy\n",
      "  OneTeam['recipient'] = OneTeam['passer'].shift(-1)\n",
      "<ipython-input-2-c261180a6b40>:30: SettingWithCopyWarning: \n",
      "A value is trying to be set on a copy of a slice from a DataFrame.\n",
      "Try using .loc[row_indexer,col_indexer] = value instead\n",
      "\n",
      "See the caveats in the documentation: https://pandas.pydata.org/pandas-docs/stable/user_guide/indexing.html#returning-a-view-versus-a-copy\n",
      "  Completions['passer'] = pas\n",
      "<ipython-input-2-c261180a6b40>:31: SettingWithCopyWarning: \n",
      "A value is trying to be set on a copy of a slice from a DataFrame.\n",
      "Try using .loc[row_indexer,col_indexer] = value instead\n",
      "\n",
      "See the caveats in the documentation: https://pandas.pydata.org/pandas-docs/stable/user_guide/indexing.html#returning-a-view-versus-a-copy\n",
      "  Completions['recipient'] = rec\n"
     ]
    },
    {
     "data": {
      "text/plain": [
       "831     2700.0\n",
       "833     2700.0\n",
       "1386    4613.0\n",
       "1388    4620.0\n",
       "Name: newsecond, dtype: float64"
      ]
     },
     "execution_count": 2,
     "metadata": {},
     "output_type": "execute_result"
    }
   ],
   "source": [
    "#load in csv straight from konklone download\n",
    "df = pd.read_csv(\"cadizA.csv\")\n",
    "\n",
    "#filter for only actions by the team you want\n",
    "OneTeam = df.loc[(df['teamId']==65)]\n",
    "\n",
    "#Make a new, single column for time and sort the events in chronological order\n",
    "OneTeam[\"newsecond\"] = 60*OneTeam[\"minute\"]+OneTeam[\"second\"]\n",
    "\n",
    "OneTeam.sort_values(by=['newsecond'])\n",
    "\n",
    "#identify the passer and then the recipient, who'll be the playerId of the next action\n",
    "OneTeam['passer'] = OneTeam['playerId']\n",
    "\n",
    "OneTeam['recipient'] = OneTeam['passer'].shift(-1)\n",
    "\n",
    "#filter for only passes and then successful passes\n",
    "Passes = OneTeam.loc[(OneTeam['type/displayName']==\"Pass\")]\n",
    "\n",
    "Completions = Passes.loc[(Passes['outcomeType/displayName']==\"Successful\")]\n",
    "\n",
    "#find time of the team's first substitution and filter the df to only passes before that\n",
    "Subs = OneTeam.loc[(OneTeam['type/displayName']==\"SubstitutionOff\")]\n",
    "SubTimes = Subs[\"newsecond\"]\n",
    "SubOne = SubTimes.min()\n",
    "\n",
    "pas = pd.to_numeric(Completions['passer'],downcast='integer')\n",
    "rec = pd.to_numeric(Completions['recipient'],downcast='integer')\n",
    "\n",
    "Completions['passer'] = pas\n",
    "Completions['recipient'] = rec\n",
    "\n",
    "SubTimes\n",
    "#SubOne"
   ]
  },
  {
   "cell_type": "code",
   "execution_count": 3,
   "metadata": {},
   "outputs": [],
   "source": [
    "Completions = Completions.loc[Completions['newsecond'] < SubOne]"
   ]
  },
  {
   "cell_type": "code",
   "execution_count": 4,
   "metadata": {},
   "outputs": [],
   "source": [
    "#Find Average Locations \n",
    "average_locs_and_count = Completions.groupby('passer').agg({'x': ['mean'], 'y': ['mean','count']})\n",
    "average_locs_and_count.columns = ['x', 'y', 'count']"
   ]
  },
  {
   "cell_type": "code",
   "execution_count": 5,
   "metadata": {},
   "outputs": [
    {
     "data": {
      "text/html": [
       "<div>\n",
       "<style scoped>\n",
       "    .dataframe tbody tr th:only-of-type {\n",
       "        vertical-align: middle;\n",
       "    }\n",
       "\n",
       "    .dataframe tbody tr th {\n",
       "        vertical-align: top;\n",
       "    }\n",
       "\n",
       "    .dataframe thead th {\n",
       "        text-align: right;\n",
       "    }\n",
       "</style>\n",
       "<table border=\"1\" class=\"dataframe\">\n",
       "  <thead>\n",
       "    <tr style=\"text-align: right;\">\n",
       "      <th></th>\n",
       "      <th>x</th>\n",
       "      <th>y</th>\n",
       "      <th>count</th>\n",
       "    </tr>\n",
       "    <tr>\n",
       "      <th>passer</th>\n",
       "      <th></th>\n",
       "      <th></th>\n",
       "      <th></th>\n",
       "    </tr>\n",
       "  </thead>\n",
       "  <tbody>\n",
       "    <tr>\n",
       "      <th>1</th>\n",
       "      <td>11.909091</td>\n",
       "      <td>53.745455</td>\n",
       "      <td>11</td>\n",
       "    </tr>\n",
       "    <tr>\n",
       "      <th>2</th>\n",
       "      <td>59.751852</td>\n",
       "      <td>13.781481</td>\n",
       "      <td>27</td>\n",
       "    </tr>\n",
       "    <tr>\n",
       "      <th>5</th>\n",
       "      <td>58.153846</td>\n",
       "      <td>43.124615</td>\n",
       "      <td>65</td>\n",
       "    </tr>\n",
       "    <tr>\n",
       "      <th>7</th>\n",
       "      <td>67.060870</td>\n",
       "      <td>52.378261</td>\n",
       "      <td>23</td>\n",
       "    </tr>\n",
       "    <tr>\n",
       "      <th>9</th>\n",
       "      <td>64.040000</td>\n",
       "      <td>47.900000</td>\n",
       "      <td>5</td>\n",
       "    </tr>\n",
       "    <tr>\n",
       "      <th>10</th>\n",
       "      <td>72.439394</td>\n",
       "      <td>42.987879</td>\n",
       "      <td>33</td>\n",
       "    </tr>\n",
       "    <tr>\n",
       "      <th>14</th>\n",
       "      <td>67.692683</td>\n",
       "      <td>75.090244</td>\n",
       "      <td>41</td>\n",
       "    </tr>\n",
       "    <tr>\n",
       "      <th>15</th>\n",
       "      <td>45.817778</td>\n",
       "      <td>67.222222</td>\n",
       "      <td>45</td>\n",
       "    </tr>\n",
       "    <tr>\n",
       "      <th>18</th>\n",
       "      <td>59.742593</td>\n",
       "      <td>82.407407</td>\n",
       "      <td>54</td>\n",
       "    </tr>\n",
       "    <tr>\n",
       "      <th>21</th>\n",
       "      <td>55.181579</td>\n",
       "      <td>56.176316</td>\n",
       "      <td>38</td>\n",
       "    </tr>\n",
       "    <tr>\n",
       "      <th>28</th>\n",
       "      <td>45.623077</td>\n",
       "      <td>32.425641</td>\n",
       "      <td>39</td>\n",
       "    </tr>\n",
       "  </tbody>\n",
       "</table>\n",
       "</div>"
      ],
      "text/plain": [
       "                x          y  count\n",
       "passer                             \n",
       "1       11.909091  53.745455     11\n",
       "2       59.751852  13.781481     27\n",
       "5       58.153846  43.124615     65\n",
       "7       67.060870  52.378261     23\n",
       "9       64.040000  47.900000      5\n",
       "10      72.439394  42.987879     33\n",
       "14      67.692683  75.090244     41\n",
       "15      45.817778  67.222222     45\n",
       "18      59.742593  82.407407     54\n",
       "21      55.181579  56.176316     38\n",
       "28      45.623077  32.425641     39"
      ]
     },
     "execution_count": 5,
     "metadata": {},
     "output_type": "execute_result"
    }
   ],
   "source": [
    "average_locs_and_count"
   ]
  },
  {
   "cell_type": "code",
   "execution_count": 6,
   "metadata": {},
   "outputs": [],
   "source": [
    "#find number of passes along each 'path' of passer to recipient\n",
    "passes_between = Completions.groupby(['passer', 'recipient']).id.count().reset_index()\n",
    "passes_between.rename({'id': 'pass_count'}, axis='columns', inplace=True)\n",
    "\n",
    "passes_between = passes_between.merge(average_locs_and_count, left_on='passer', right_index=True)\n",
    "passes_between = passes_between.merge(average_locs_and_count, left_on='recipient', right_index=True,\n",
    "                                      suffixes=['', '_end'])"
   ]
  },
  {
   "cell_type": "code",
   "execution_count": 7,
   "metadata": {},
   "outputs": [
    {
     "data": {
      "text/plain": [
       "passer          int64\n",
       "recipient       int64\n",
       "pass_count      int64\n",
       "x             float64\n",
       "y             float64\n",
       "count           int64\n",
       "x_end         float64\n",
       "y_end         float64\n",
       "count_end       int64\n",
       "dtype: object"
      ]
     },
     "execution_count": 7,
     "metadata": {},
     "output_type": "execute_result"
    }
   ],
   "source": [
    "passes_between.dtypes"
   ]
  },
  {
   "cell_type": "code",
   "execution_count": 8,
   "metadata": {},
   "outputs": [],
   "source": [
    "size=1000\n",
    "radius = math.sqrt(size)/2.\n",
    "arrow = mpl.patches.FancyArrowPatch(posA=(1.2*passes_between.x,80-.8*passes_between.y), \n",
    "                                    posB=(1.2*passes_between.x_end,80-.8*passes_between.y_end), \n",
    "                                    arrowstyle='-|>', mutation_scale=20, shrinkA=radius, shrinkB=radius)\n"
   ]
  },
  {
   "cell_type": "code",
   "execution_count": 11,
   "metadata": {},
   "outputs": [
    {
     "data": {
      "image/png": "[encoded data removed]",
      "text/plain": [
       "<Figure size 1152x792 with 1 Axes>"
      ]
     },
     "metadata": {},
     "output_type": "display_data"
    }
   ],
   "source": [
    "#set minimum threshold for pass arrows to be plotted. So this will only plot combos which occured at least 5 times.\n",
    "passes_between = passes_between.loc[(passes_between['pass_count']>5)]\n",
    "\n",
    "\n",
    "#Make arrows less transparent if they have a higher count, totally optional of course\n",
    "min_transparency = 0.3\n",
    "color = np.array(to_rgba('#d3d3d3'))\n",
    "color = np.tile(color, (len(passes_between), 1))\n",
    "c_transparency = passes_between.pass_count / passes_between.pass_count.max()\n",
    "c_transparency = (c_transparency * (1 - min_transparency)) + min_transparency\n",
    "color[:, 3] = c_transparency\n",
    "\n",
    "#plot pitch\n",
    "pitch = Pitch(pitch_type='statsbomb', orientation='vertical',\n",
    "              pitch_color='#22312b', line_color='#c7d5cc', figsize=(16, 11),\n",
    "              constrained_layout=True, tight_layout=False)\n",
    "fig, ax = pitch.draw()\n",
    "\n",
    "\n",
    "#plot arrows\n",
    "def pass_line_template(ax, x, y, end_x, end_y, line_color):\n",
    "    ax.annotate('', xy=(80-.8*end_y, 1.2*end_x), xytext=(80-.8*y, 1.2*x), zorder=1,\n",
    "    arrowprops=dict(arrowstyle='-|>', linewidth=4, color='#c7d5cc', alpha=.85))\n",
    "    \n",
    "def pass_line_template_shrink(ax, x, y, end_x, end_y, line_color, dist_delta=1.2):\n",
    "    dist = math.hypot(end_x - x, end_y - y)\n",
    "    angle = math.atan2(end_y-y, end_x-x)\n",
    "    upd_x = x + (dist - dist_delta) * math.cos(angle)\n",
    "    upd_y = y + (dist - dist_delta) * math.sin(angle)\n",
    "    pass_line_template(ax, x, y, upd_x, upd_y, line_color=line_color)\n",
    "    \n",
    "    \n",
    "for index, row in passes_between.iterrows():\n",
    "    pass_line_template_shrink(ax,row['x'],row['y'],row['x_end'],row['y_end'],'white')\n",
    "\n",
    "''' \n",
    "pass_arrows = pitch.arrows(1.2*passes_between.x, 80-0.8*passes_between.y,\n",
    "                         1.2*passes_between.x_end, 80-0.8*passes_between.y_end, width=5,\n",
    "                         headwidth=5, headlength=5, color=color, ax=ax, zorder=1)\n",
    "\n",
    "size=1000\n",
    "radius = math.sqrt(size)/2.\n",
    "arrow = mpl.patches.FancyArrowPatch(posA=(1.2*passes_between.x,80-.8*passes_between.y), \n",
    "                                    posB=(1.2*passes_between.x_end,80-.8*passes_between.y_end), \n",
    "                                    arrowstyle='-|>', mutation_scale=20, shrinkA=radius, shrinkB=radius)\n",
    "\n",
    "ax.add_patch(arrow)\n",
    " '''\n",
    "#plot nodes\n",
    "pass_nodes = pitch.scatter(1.2*average_locs_and_count.x, 80-0.8*average_locs_and_count.y, s=500,\n",
    "                           color='#f0ece2', edgecolors=\"#010101\", linewidth=2, alpha=1, ax=ax, zorder=2)\n",
    "\n",
    "\n",
    "#anootation/key at bottom\n",
    "pitch.annotate(\"Node Positions = Average Start Location of Completed Passes\\nArrows Show Pass Combinations Which Occured Over 5 Times\", (-4, 40), color='w',\n",
    "               fontsize=10, ha='center', va='center', ax=ax, fontweight='bold', fontfamily=\"Andale Mono\")\n",
    "\n",
    "\n",
    "#Uncomment these next two lines to get each node labeled with the player id. Check to see if anything looks off, and make note of each player if you're going to add labeles later like their numbers\n",
    "for index, row in average_locs_and_count.iterrows():\n",
    "     pitch.annotate(row.name, xy=(1.2*row.x, 80-0.8*row.y), c='#132743', va='center', ha='center', size=10, fontweight='bold', fontfamily=\"Century Gothic\",ax=ax)\n",
    "\n",
    "#Set the background color\n",
    "fig.patch.set_facecolor('#22312b')\n",
    "\n",
    "#annotatios\n",
    "ax.set_title(\"FC Barcelona vs Cadiz 5/12 | Until First Sub\", fontsize=18, color=\"w\", fontfamily=\"Andale Mono\", fontweight='bold', pad=-8)\n",
    "fig.text(.43,-.01,f'@mckayjohns / twitter',fontstyle='italic',fontsize=12,fontfamily='Andale Mono',color='w')\n",
    "\n",
    "#save the plot\n",
    "plt.savefig('cadiz.png', dpi = 500, bbox_inches='tight',facecolor='#22312b')"
   ]
  },
  {
   "cell_type": "code",
   "execution_count": null,
   "metadata": {},
   "outputs": [],
   "source": []
  },
  {
   "cell_type": "code",
   "execution_count": null,
   "metadata": {},
   "outputs": [],
   "source": []
  },
  {
   "cell_type": "code",
   "execution_count": null,
   "metadata": {},
   "outputs": [],
   "source": []
  }
 ],
 "metadata": {
  "kernelspec": {
   "display_name": "Python 3",
   "language": "python",
   "name": "python3"
  },
  "language_info": {
   "codemirror_mode": {
    "name": "ipython",
    "version": 3
   },
   "file_extension": ".py",
   "mimetype": "text/x-python",
   "name": "python",
   "nbconvert_exporter": "python",
   "pygments_lexer": "ipython3",
   "version": "3.8.3"
  }
 },
 "nbformat": 4,
 "nbformat_minor": 4
}
